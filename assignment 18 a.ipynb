{
 "cells": [
  {
   "cell_type": "code",
   "execution_count": 2,
   "metadata": {},
   "outputs": [
    {
     "data": {
      "text/plain": [
       "'Q1: Difference between a t-test and a z-test\\nA t-test is used when the sample size is small (n < 30) or the population standard deviation is unknown. A z-test is used for larger samples (n ≥ 30) with known population standard deviation.\\n\\nExample:\\n\\nt-test: Comparing the means of two small independent samples.\\nz-test: Comparing the sample mean to a population mean with a known population variance.'"
      ]
     },
     "execution_count": 2,
     "metadata": {},
     "output_type": "execute_result"
    }
   ],
   "source": [
    "'''Q1: Difference between a t-test and a z-test\n",
    "A t-test is used when the sample size is small (n < 30) or the population standard deviation is unknown. A z-test is used for larger samples (n ≥ 30) with known population standard deviation.\n",
    "\n",
    "Example:\n",
    "\n",
    "t-test: Comparing the means of two small independent samples.\n",
    "z-test: Comparing the sample mean to a population mean with a known population variance.'''"
   ]
  },
  {
   "cell_type": "code",
   "execution_count": 4,
   "metadata": {},
   "outputs": [
    {
     "data": {
      "text/plain": [
       "'\\nQ2: One-tailed vs. Two-tailed tests\\nA one-tailed test examines if a sample mean is significantly greater than or less than a population mean in one direction. A two-tailed test checks for any significant difference, regardless of direction.\\n'"
      ]
     },
     "execution_count": 4,
     "metadata": {},
     "output_type": "execute_result"
    }
   ],
   "source": [
    "'''\n",
    "Q2: One-tailed vs. Two-tailed tests\n",
    "A one-tailed test examines if a sample mean is significantly greater than or less than a population mean in one direction. A two-tailed test checks for any significant difference, regardless of direction.\n",
    "'''"
   ]
  },
  {
   "cell_type": "code",
   "execution_count": 5,
   "metadata": {},
   "outputs": [
    {
     "data": {
      "text/plain": [
       "'\\nQ3: Type 1 and Type 2 Errors\\nType 1 Error: Rejecting a true null hypothesis (false positive).\\nExample: Concluding a new drug is effective when it’s not.\\nType 2 Error: Failing to reject a false null hypothesis (false negative).\\nExample: Concluding a drug has no effect when it actually does.\\n'"
      ]
     },
     "execution_count": 5,
     "metadata": {},
     "output_type": "execute_result"
    }
   ],
   "source": [
    "'''\n",
    "Q3: Type 1 and Type 2 Errors\n",
    "Type 1 Error: Rejecting a true null hypothesis (false positive).\n",
    "Example: Concluding a new drug is effective when it’s not.\n",
    "Type 2 Error: Failing to reject a false null hypothesis (false negative).\n",
    "Example: Concluding a drug has no effect when it actually does.\n",
    "'''"
   ]
  },
  {
   "cell_type": "code",
   "execution_count": 6,
   "metadata": {},
   "outputs": [
    {
     "data": {
      "text/plain": [
       "\"Bayes's Theorem calculates the probability of an event based on prior knowledge and new evidence.\\nExample:\\nIf 1% of people have a disease (P(Disease) = 0.01) and a test detects the disease 99% of the time (P(Test|Disease) = 0.99), but has a 5% false positive rate (P(Test|No Disease) = 0.05), Bayes's Theorem can determine the probability of having the disease if tested positive.\""
      ]
     },
     "execution_count": 6,
     "metadata": {},
     "output_type": "execute_result"
    }
   ],
   "source": [
    "'''Bayes's Theorem calculates the probability of an event based on prior knowledge and new evidence.\n",
    "Example:\n",
    "If 1% of people have a disease (P(Disease) = 0.01) and a test detects the disease 99% of the time (P(Test|Disease) = 0.99), but has a 5% false positive rate (P(Test|No Disease) = 0.05), Bayes's Theorem can determine the probability of having the disease if tested positive.'''"
   ]
  },
  {
   "cell_type": "code",
   "execution_count": 7,
   "metadata": {},
   "outputs": [
    {
     "data": {
      "text/plain": [
       "'\\nQ5: Confidence Interval\\nA confidence interval estimates the range within which a population parameter lies, based on sample data\\n'"
      ]
     },
     "execution_count": 7,
     "metadata": {},
     "output_type": "execute_result"
    }
   ],
   "source": [
    "'''\n",
    "Q5: Confidence Interval\n",
    "A confidence interval estimates the range within which a population parameter lies, based on sample data\n",
    "\n",
    "\n",
    "'''"
   ]
  },
  {
   "cell_type": "code",
   "execution_count": 8,
   "metadata": {},
   "outputs": [
    {
     "data": {
      "text/plain": [
       "\"\\nQ6: Bayes' Theorem Calculation\\nProblem:\\n1% have a disease, test is 99% accurate, 5% false positive rate.\\nP(Disease∣Test + )= P(Test + )P(Test + ∣Disease)⋅P(Disease)\\n\\u200b\\n \\n𝑃(𝑇𝑒𝑠𝑡+)=(0.99⋅0.01)+(0.05⋅0.99)=0.0594\\n\\nP(Disease∣Test + )= 0.05940.99⋅0.01\\u200b ≈0.167\\nThe probability of having the disease given a positive test is 16.7%.\\n\""
      ]
     },
     "execution_count": 8,
     "metadata": {},
     "output_type": "execute_result"
    }
   ],
   "source": [
    "'''\n",
    "Q6: Bayes' Theorem Calculation\n",
    "Problem:\n",
    "1% have a disease, test is 99% accurate, 5% false positive rate.\n",
    "P(Disease∣Test + )= P(Test + )P(Test + ∣Disease)⋅P(Disease)\n",
    "​\n",
    " \n",
    "𝑃(𝑇𝑒𝑠𝑡+)=(0.99⋅0.01)+(0.05⋅0.99)=0.0594\n",
    "\n",
    "P(Disease∣Test + )= 0.05940.99⋅0.01​ ≈0.167\n",
    "The probability of having the disease given a positive test is 16.7%.\n",
    "'''"
   ]
  },
  {
   "cell_type": "code",
   "execution_count": 9,
   "metadata": {},
   "outputs": [
    {
     "data": {
      "text/plain": [
       "'\\nQ7: 95% Confidence Interval\\nData: Mean \\n𝑥\\nˉ\\n=\\n50\\nx\\nˉ\\n =50, \\n𝜎\\n=\\n5\\nσ=5, \\n𝑛\\n=\\n30\\nn=30, \\n𝑧\\n=\\n1.96\\nz=1.96.\\nCI\\n=\\n50\\n±\\n(\\n1.96\\n⋅\\n5\\n30\\n)\\nCI=50±(1.96⋅ \\n30\\n\\u200b\\n \\n5\\n\\u200b\\n )\\nCI\\n=\\n50\\n±\\n1.79\\nCI=50±1.79\\nCI\\n=\\n(\\n48.21\\n,\\n51.79\\n)\\nCI=(48.21,51.79)\\nThe true population mean likely falls between 48.21 and 51.79.\\n'"
      ]
     },
     "execution_count": 9,
     "metadata": {},
     "output_type": "execute_result"
    }
   ],
   "source": [
    "'''\n",
    "Q7: 95% Confidence Interval\n",
    "Data: Mean \n",
    "𝑥\n",
    "ˉ\n",
    "=\n",
    "50\n",
    "x\n",
    "ˉ\n",
    " =50, \n",
    "𝜎\n",
    "=\n",
    "5\n",
    "σ=5, \n",
    "𝑛\n",
    "=\n",
    "30\n",
    "n=30, \n",
    "𝑧\n",
    "=\n",
    "1.96\n",
    "z=1.96.\n",
    "CI\n",
    "=\n",
    "50\n",
    "±\n",
    "(\n",
    "1.96\n",
    "⋅\n",
    "5\n",
    "30\n",
    ")\n",
    "CI=50±(1.96⋅ \n",
    "30\n",
    "​\n",
    " \n",
    "5\n",
    "​\n",
    " )\n",
    "CI\n",
    "=\n",
    "50\n",
    "±\n",
    "1.79\n",
    "CI=50±1.79\n",
    "CI\n",
    "=\n",
    "(\n",
    "48.21\n",
    ",\n",
    "51.79\n",
    ")\n",
    "CI=(48.21,51.79)\n",
    "The true population mean likely falls between 48.21 and 51.79.\n",
    "'''"
   ]
  },
  {
   "cell_type": "code",
   "execution_count": 10,
   "metadata": {},
   "outputs": [
    {
     "data": {
      "text/plain": [
       "'\\nQ8: Margin of Error\\nMargin of error reflects the range of values above and below the sample statistic.\\nMOE\\n=\\n𝑧\\n⋅\\n𝜎\\n𝑛\\nMOE=z⋅ \\nn\\n\\u200b\\n \\nσ\\n\\u200b\\n \\nLarger sample sizes reduce MOE, increasing precision.\\n\\nExample:\\nWith \\n𝑛\\n=\\n100\\nn=100, MOE = 1.96 * (σ/√100) is smaller than with \\n𝑛\\n=\\n25\\nn=25.\\n'"
      ]
     },
     "execution_count": 10,
     "metadata": {},
     "output_type": "execute_result"
    }
   ],
   "source": [
    "'''\n",
    "Q8: Margin of Error\n",
    "Margin of error reflects the range of values above and below the sample statistic.\n",
    "MOE\n",
    "=\n",
    "𝑧\n",
    "⋅\n",
    "𝜎\n",
    "𝑛\n",
    "MOE=z⋅ \n",
    "n\n",
    "​\n",
    " \n",
    "σ\n",
    "​\n",
    " \n",
    "Larger sample sizes reduce MOE, increasing precision.\n",
    "\n",
    "Example:\n",
    "With \n",
    "𝑛\n",
    "=\n",
    "100\n",
    "n=100, MOE = 1.96 * (σ/√100) is smaller than with \n",
    "𝑛\n",
    "=\n",
    "25\n",
    "n=25.\n",
    "'''"
   ]
  },
  {
   "cell_type": "code",
   "execution_count": 11,
   "metadata": {},
   "outputs": [
    {
     "data": {
      "text/plain": [
       "'\\nQ9: Z-score Calculation\\nData: Value = 75, Population mean \\n𝜇\\n=\\n70\\nμ=70, Population standard deviation \\n𝜎\\n=\\n5\\nσ=5.\\n𝑧\\n=\\n𝑋\\n−\\n𝜇\\n𝜎\\n=\\n75\\n−\\n70\\n5\\n=\\n1\\nz= \\nσ\\nX−μ\\n\\u200b\\n = \\n5\\n75−70\\n\\u200b\\n =1\\nA z-score of 1 means the value is one standard deviation above the mean.\\n'"
      ]
     },
     "execution_count": 11,
     "metadata": {},
     "output_type": "execute_result"
    }
   ],
   "source": [
    "'''\n",
    "Q9: Z-score Calculation\n",
    "Data: Value = 75, Population mean \n",
    "𝜇\n",
    "=\n",
    "70\n",
    "μ=70, Population standard deviation \n",
    "𝜎\n",
    "=\n",
    "5\n",
    "σ=5.\n",
    "𝑧\n",
    "=\n",
    "𝑋\n",
    "−\n",
    "𝜇\n",
    "𝜎\n",
    "=\n",
    "75\n",
    "−\n",
    "70\n",
    "5\n",
    "=\n",
    "1\n",
    "z= \n",
    "σ\n",
    "X−μ\n",
    "​\n",
    " = \n",
    "5\n",
    "75−70\n",
    "​\n",
    " =1\n",
    "A z-score of 1 means the value is one standard deviation above the mean.\n",
    "'''"
   ]
  },
  {
   "cell_type": "code",
   "execution_count": 12,
   "metadata": {},
   "outputs": [
    {
     "data": {
      "text/plain": [
       "'\\nQ10: Hypothesis Test for Weight Loss Drug\\nData: Mean = 6, \\n𝜎\\n=\\n2.5\\nσ=2.5, \\n𝑛\\n=\\n50\\nn=50, \\n𝛼\\n=\\n0.05\\nα=0.05.\\n𝑡\\n=\\n𝑥\\nˉ\\n−\\n𝜇\\n𝑠\\n/\\n𝑛\\n=\\n6\\n−\\n0\\n2.5\\n/\\n50\\n=\\n16.97\\nt= \\ns/ \\nn\\n\\u200b\\n \\nx\\nˉ\\n −μ\\n\\u200b\\n = \\n2.5/ \\n50\\n\\u200b\\n \\n6−0\\n\\u200b\\n =16.97\\nWith \\n𝑑\\n𝑓\\n=\\n49\\ndf=49, critical \\n𝑡\\n≈\\n2.01\\nt≈2.01.\\nSince 16.97 > 2.01, reject null hypothesis; the drug is effective.\\n'"
      ]
     },
     "execution_count": 12,
     "metadata": {},
     "output_type": "execute_result"
    }
   ],
   "source": [
    "'''\n",
    "Q10: Hypothesis Test for Weight Loss Drug\n",
    "Data: Mean = 6, \n",
    "𝜎\n",
    "=\n",
    "2.5\n",
    "σ=2.5, \n",
    "𝑛\n",
    "=\n",
    "50\n",
    "n=50, \n",
    "𝛼\n",
    "=\n",
    "0.05\n",
    "α=0.05.\n",
    "𝑡\n",
    "=\n",
    "𝑥\n",
    "ˉ\n",
    "−\n",
    "𝜇\n",
    "𝑠\n",
    "/\n",
    "𝑛\n",
    "=\n",
    "6\n",
    "−\n",
    "0\n",
    "2.5\n",
    "/\n",
    "50\n",
    "=\n",
    "16.97\n",
    "t= \n",
    "s/ \n",
    "n\n",
    "​\n",
    " \n",
    "x\n",
    "ˉ\n",
    " −μ\n",
    "​\n",
    " = \n",
    "2.5/ \n",
    "50\n",
    "​\n",
    " \n",
    "6−0\n",
    "​\n",
    " =16.97\n",
    "With \n",
    "𝑑\n",
    "𝑓\n",
    "=\n",
    "49\n",
    "df=49, critical \n",
    "𝑡\n",
    "≈\n",
    "2.01\n",
    "t≈2.01.\n",
    "Since 16.97 > 2.01, reject null hypothesis; the drug is effective.\n",
    "'''"
   ]
  },
  {
   "cell_type": "code",
   "execution_count": 13,
   "metadata": {},
   "outputs": [
    {
     "data": {
      "text/plain": [
       "'\\nQ11: Confidence Interval for Job Satisfaction\\nData: \\n𝑝\\n=\\n0.65\\np=0.65, \\n𝑛\\n=\\n500\\nn=500, \\n𝑧\\n=\\n1.96\\nz=1.96 for 95% CI.\\nCI\\n=\\n0.65\\n±\\n1.96\\n⋅\\n0.65\\n⋅\\n0.35\\n500\\n=\\n0.65\\n±\\n0.043\\nCI=0.65±1.96⋅ \\n500\\n0.65⋅0.35\\n\\u200b\\n \\n\\u200b\\n =0.65±0.043\\nCI\\n=\\n(\\n0.607\\n,\\n0.693\\n)\\nCI=(0.607,0.693)\\nTrue proportion lies between 60.7% and 69.3%.\\n'"
      ]
     },
     "execution_count": 13,
     "metadata": {},
     "output_type": "execute_result"
    }
   ],
   "source": [
    "'''\n",
    "Q11: Confidence Interval for Job Satisfaction\n",
    "Data: \n",
    "𝑝\n",
    "=\n",
    "0.65\n",
    "p=0.65, \n",
    "𝑛\n",
    "=\n",
    "500\n",
    "n=500, \n",
    "𝑧\n",
    "=\n",
    "1.96\n",
    "z=1.96 for 95% CI.\n",
    "CI\n",
    "=\n",
    "0.65\n",
    "±\n",
    "1.96\n",
    "⋅\n",
    "0.65\n",
    "⋅\n",
    "0.35\n",
    "500\n",
    "=\n",
    "0.65\n",
    "±\n",
    "0.043\n",
    "CI=0.65±1.96⋅ \n",
    "500\n",
    "0.65⋅0.35\n",
    "​\n",
    " \n",
    "​\n",
    " =0.65±0.043\n",
    "CI\n",
    "=\n",
    "(\n",
    "0.607\n",
    ",\n",
    "0.693\n",
    ")\n",
    "CI=(0.607,0.693)\n",
    "True proportion lies between 60.7% and 69.3%.\n",
    "'''"
   ]
  },
  {
   "cell_type": "code",
   "execution_count": 14,
   "metadata": {},
   "outputs": [
    {
     "data": {
      "text/plain": [
       "'\\nQ12: Hypothesis Test for Teaching Methods\\nData: Mean A = 85, SD A = 6, Mean B = 82, SD B = 5, \\n𝑛\\n=\\n30\\nn=30, \\n𝛼\\n=\\n0.01\\nα=0.01.\\n𝑡\\n=\\n𝑋\\n1\\nˉ\\n−\\n𝑋\\n2\\nˉ\\n𝑆\\n1\\n2\\n𝑛\\n1\\n+\\n𝑆\\n2\\n2\\n𝑛\\n2\\n=\\n85\\n−\\n82\\n36\\n30\\n+\\n25\\n30\\n=\\n2.45\\nt= \\nn \\n1\\n\\u200b\\n \\nS \\n1\\n2\\n\\u200b\\n \\n\\u200b\\n + \\nn \\n2\\n\\u200b\\n \\nS \\n2\\n2\\n\\u200b\\n \\n\\u200b\\n \\n\\u200b\\n \\nX \\n1\\n\\u200b\\n \\nˉ\\n\\u200b\\n − \\nX \\n2\\n\\u200b\\n \\nˉ\\n\\u200b\\n \\n\\u200b\\n = \\n30\\n36\\n\\u200b\\n + \\n30\\n25\\n\\u200b\\n \\n\\u200b\\n \\n85−82\\n\\u200b\\n =2.45\\nWith \\n𝑑\\n𝑓\\n≈\\n58\\ndf≈58, critical \\n𝑡\\n≈\\n2.66\\nt≈2.66.\\nSince 2.45 < 2.66, fail to reject null; no significant difference.\\n'"
      ]
     },
     "execution_count": 14,
     "metadata": {},
     "output_type": "execute_result"
    }
   ],
   "source": [
    "'''\n",
    "Q12: Hypothesis Test for Teaching Methods\n",
    "Data: Mean A = 85, SD A = 6, Mean B = 82, SD B = 5, \n",
    "𝑛\n",
    "=\n",
    "30\n",
    "n=30, \n",
    "𝛼\n",
    "=\n",
    "0.01\n",
    "α=0.01.\n",
    "𝑡\n",
    "=\n",
    "𝑋\n",
    "1\n",
    "ˉ\n",
    "−\n",
    "𝑋\n",
    "2\n",
    "ˉ\n",
    "𝑆\n",
    "1\n",
    "2\n",
    "𝑛\n",
    "1\n",
    "+\n",
    "𝑆\n",
    "2\n",
    "2\n",
    "𝑛\n",
    "2\n",
    "=\n",
    "85\n",
    "−\n",
    "82\n",
    "36\n",
    "30\n",
    "+\n",
    "25\n",
    "30\n",
    "=\n",
    "2.45\n",
    "t= \n",
    "n \n",
    "1\n",
    "​\n",
    " \n",
    "S \n",
    "1\n",
    "2\n",
    "​\n",
    " \n",
    "​\n",
    " + \n",
    "n \n",
    "2\n",
    "​\n",
    " \n",
    "S \n",
    "2\n",
    "2\n",
    "​\n",
    " \n",
    "​\n",
    " \n",
    "​\n",
    " \n",
    "X \n",
    "1\n",
    "​\n",
    " \n",
    "ˉ\n",
    "​\n",
    " − \n",
    "X \n",
    "2\n",
    "​\n",
    " \n",
    "ˉ\n",
    "​\n",
    " \n",
    "​\n",
    " = \n",
    "30\n",
    "36\n",
    "​\n",
    " + \n",
    "30\n",
    "25\n",
    "​\n",
    " \n",
    "​\n",
    " \n",
    "85−82\n",
    "​\n",
    " =2.45\n",
    "With \n",
    "𝑑\n",
    "𝑓\n",
    "≈\n",
    "58\n",
    "df≈58, critical \n",
    "𝑡\n",
    "≈\n",
    "2.66\n",
    "t≈2.66.\n",
    "Since 2.45 < 2.66, fail to reject null; no significant difference.\n",
    "'''"
   ]
  },
  {
   "cell_type": "code",
   "execution_count": 15,
   "metadata": {},
   "outputs": [
    {
     "data": {
      "text/plain": [
       "'\\nQ13: 90% Confidence Interval for Population Mean\\nData: Population mean \\n𝜇\\n=\\n60\\nμ=60, SD \\n𝜎\\n=\\n8\\nσ=8, Sample mean \\n𝑥\\nˉ\\n=\\n65\\nx\\nˉ\\n =65, \\n𝑛\\n=\\n50\\nn=50, \\n𝑧\\n=\\n1.645\\nz=1.645.\\nCI\\n=\\n65\\n±\\n1.645\\n⋅\\n8\\n50\\nCI=65±1.645⋅ \\n50\\n\\u200b\\n \\n8\\n\\u200b\\n \\nCI\\n=\\n65\\n±\\n1.86\\nCI=65±1.86\\nCI\\n=\\n(\\n63.14\\n,\\n66.86\\n)\\nCI=(63.14,66.86)\\nTrue population mean likely falls between 63.14 and 66.86.\\n'"
      ]
     },
     "execution_count": 15,
     "metadata": {},
     "output_type": "execute_result"
    }
   ],
   "source": [
    "'''\n",
    "Q13: 90% Confidence Interval for Population Mean\n",
    "Data: Population mean \n",
    "𝜇\n",
    "=\n",
    "60\n",
    "μ=60, SD \n",
    "𝜎\n",
    "=\n",
    "8\n",
    "σ=8, Sample mean \n",
    "𝑥\n",
    "ˉ\n",
    "=\n",
    "65\n",
    "x\n",
    "ˉ\n",
    " =65, \n",
    "𝑛\n",
    "=\n",
    "50\n",
    "n=50, \n",
    "𝑧\n",
    "=\n",
    "1.645\n",
    "z=1.645.\n",
    "CI\n",
    "=\n",
    "65\n",
    "±\n",
    "1.645\n",
    "⋅\n",
    "8\n",
    "50\n",
    "CI=65±1.645⋅ \n",
    "50\n",
    "​\n",
    " \n",
    "8\n",
    "​\n",
    " \n",
    "CI\n",
    "=\n",
    "65\n",
    "±\n",
    "1.86\n",
    "CI=65±1.86\n",
    "CI\n",
    "=\n",
    "(\n",
    "63.14\n",
    ",\n",
    "66.86\n",
    ")\n",
    "CI=(63.14,66.86)\n",
    "True population mean likely falls between 63.14 and 66.86.\n",
    "'''"
   ]
  },
  {
   "cell_type": "code",
   "execution_count": 16,
   "metadata": {},
   "outputs": [
    {
     "data": {
      "text/plain": [
       "'\\nQ14: Hypothesis Test for Reaction Time\\nData: Mean = 0.25, SD = 0.05, \\n𝑛\\n=\\n30\\nn=30, \\n𝛼\\n=\\n0.10\\nα=0.10.\\n𝑡\\n=\\n𝑥\\nˉ\\n−\\n𝜇\\n𝑠\\n/\\n𝑛\\n=\\n0.25\\n−\\n0\\n0.05\\n/\\n30\\n=\\n27.39\\nt= \\ns/ \\nn\\n\\u200b\\n \\nx\\nˉ\\n −μ\\n\\u200b\\n = \\n0.05/ \\n30\\n\\u200b\\n \\n0.25−0\\n\\u200b\\n =27.39\\nWith \\n𝑑\\n𝑓\\n=\\n29\\ndf=29, critical \\n𝑡\\n≈\\n1.699\\nt≈1.699.\\nSince 27.39 > 1.699, reject null hypothesis; caffeine affects reaction time.\\n'"
      ]
     },
     "execution_count": 16,
     "metadata": {},
     "output_type": "execute_result"
    }
   ],
   "source": [
    "'''\n",
    "Q14: Hypothesis Test for Reaction Time\n",
    "Data: Mean = 0.25, SD = 0.05, \n",
    "𝑛\n",
    "=\n",
    "30\n",
    "n=30, \n",
    "𝛼\n",
    "=\n",
    "0.10\n",
    "α=0.10.\n",
    "𝑡\n",
    "=\n",
    "𝑥\n",
    "ˉ\n",
    "−\n",
    "𝜇\n",
    "𝑠\n",
    "/\n",
    "𝑛\n",
    "=\n",
    "0.25\n",
    "−\n",
    "0\n",
    "0.05\n",
    "/\n",
    "30\n",
    "=\n",
    "27.39\n",
    "t= \n",
    "s/ \n",
    "n\n",
    "​\n",
    " \n",
    "x\n",
    "ˉ\n",
    " −μ\n",
    "​\n",
    " = \n",
    "0.05/ \n",
    "30\n",
    "​\n",
    " \n",
    "0.25−0\n",
    "​\n",
    " =27.39\n",
    "With \n",
    "𝑑\n",
    "𝑓\n",
    "=\n",
    "29\n",
    "df=29, critical \n",
    "𝑡\n",
    "≈\n",
    "1.699\n",
    "t≈1.699.\n",
    "Since 27.39 > 1.699, reject null hypothesis; caffeine affects reaction time.\n",
    "'''"
   ]
  },
  {
   "cell_type": "code",
   "execution_count": null,
   "metadata": {},
   "outputs": [],
   "source": []
  }
 ],
 "metadata": {
  "kernelspec": {
   "display_name": "Python 3",
   "language": "python",
   "name": "python3"
  },
  "language_info": {
   "codemirror_mode": {
    "name": "ipython",
    "version": 3
   },
   "file_extension": ".py",
   "mimetype": "text/x-python",
   "name": "python",
   "nbconvert_exporter": "python",
   "pygments_lexer": "ipython3",
   "version": "3.11.9"
  }
 },
 "nbformat": 4,
 "nbformat_minor": 2
}
